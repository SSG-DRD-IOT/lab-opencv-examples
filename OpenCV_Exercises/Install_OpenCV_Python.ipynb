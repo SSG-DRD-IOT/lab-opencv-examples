{
 "cells": [
  {
   "cell_type": "markdown",
   "metadata": {},
   "source": [
    "# Install OpenCV for Python\n",
    "\n",
    "Before going into tutorials for understanding OpenCV, let's install some required libraries we will need when running other notebooks."
   ]
  },
  {
   "cell_type": "markdown",
   "metadata": {},
   "source": [
    "Working with Python and Jupyter notebook is pretty straight forward. \n",
    "\n",
    "Jupyter notebook runs as a web server and each cell can be used as a Python script and scripts ran on the relevant Python environment. This either can be virtual environment or system's python according to configurations. Therefore you are limited to packages your Python environment have. \n",
    "\n",
    "You can either go to terminal to install packages with `pip` tool or you can use cells to install them.\n",
    "\n",
    "Here, we will show practical installation steps rather than the Python virtual environment creation and package installations because all packages and commands are same."
   ]
  },
  {
   "cell_type": "code",
   "execution_count": 1,
   "metadata": {
    "scrolled": true
   },
   "outputs": [
    {
     "name": "stdout",
     "output_type": "stream",
     "text": [
      "Package                            Version    \r\n",
      "---------------------------------- -----------\r\n",
      "adium-theme-ubuntu                 0.3.4      \r\n",
      "backports.shutil-get-terminal-size 1.0.0      \r\n",
      "bleach                             2.1.2      \r\n",
      "configparser                       3.5.0      \r\n",
      "cycler                             0.9.0      \r\n",
      "decorator                          4.0.11     \r\n",
      "entrypoints                        0.2.3      \r\n",
      "enum34                             1.1.6      \r\n",
      "functools32                        3.2.3.post2\r\n",
      "html5lib                           1.0.1      \r\n",
      "imageio                            2.1.2      \r\n",
      "imutils                            0.4.6      \r\n",
      "ipykernel                          4.8.0      \r\n",
      "ipython                            5.5.0      \r\n",
      "ipython-genutils                   0.2.0      \r\n",
      "ipywidgets                         7.1.0      \r\n",
      "Jinja2                             2.8        \r\n",
      "jsonschema                         2.6.0      \r\n",
      "jupyter                            1.0.0      \r\n",
      "jupyter-client                     5.2.1      \r\n",
      "jupyter-console                    5.2.0      \r\n",
      "jupyter-core                       4.4.0      \r\n",
      "MarkupSafe                         0.23       \r\n",
      "matplotlib                         1.5.1      \r\n",
      "mistune                            0.8.3      \r\n",
      "moviepy                            0.2.3.2    \r\n",
      "mvnc                               1.12.0.1   \r\n",
      "nbconvert                          5.3.1      \r\n",
      "nbformat                           4.4.0      \r\n",
      "notebook                           5.3.1      \r\n",
      "numpy                              1.14.0     \r\n",
      "opencv-python                      3.4.1.15   \r\n",
      "paho-mqtt                          1.3.1      \r\n",
      "pandocfilters                      1.4.2      \r\n",
      "pathlib2                           2.3.0      \r\n",
      "pexpect                            4.0.1      \r\n",
      "pickleshare                        0.7.4      \r\n",
      "Pillow                             5.0.0      \r\n",
      "pip                                10.0.1     \r\n",
      "prompt-toolkit                     1.0.15     \r\n",
      "psutil                             5.4.5      \r\n",
      "ptyprocess                         0.5        \r\n",
      "pycurl                             7.43.0     \r\n",
      "Pygments                           2.2.0      \r\n",
      "PyMySQL                            0.7.2      \r\n",
      "pyparsing                          2.0.3      \r\n",
      "Pyste                              0.9.10     \r\n",
      "python-dateutil                    2.4.2      \r\n",
      "pytz                               2014.10    \r\n",
      "pywatchman                         1.3.0      \r\n",
      "pyzmq                              15.2.0     \r\n",
      "qtconsole                          4.3.1      \r\n",
      "scandir                            1.6        \r\n",
      "Send2Trash                         1.4.2      \r\n",
      "setuptools                         20.7.0     \r\n",
      "simplegeneric                      0.8.1      \r\n",
      "six                                1.10.0     \r\n",
      "terminado                          0.8.1      \r\n",
      "testpath                           0.3.1      \r\n",
      "tornado                            4.2.1      \r\n",
      "tqdm                               4.11.2     \r\n",
      "traitlets                          4.3.2      \r\n",
      "unity-lens-photos                  1.0        \r\n",
      "wcwidth                            0.1.7      \r\n",
      "webencodings                       0.5.1      \r\n",
      "wheel                              0.29.0     \r\n",
      "widgetsnbextension                 3.1.0      \r\n"
     ]
    }
   ],
   "source": [
    "# list installed package list\n",
    "!pip list"
   ]
  },
  {
   "cell_type": "code",
   "execution_count": 2,
   "metadata": {},
   "outputs": [
    {
     "name": "stdout",
     "output_type": "stream",
     "text": [
      "Requirement already satisfied: opencv-python in /usr/local/lib/python2.7/dist-packages (3.4.1.15)\n",
      "Requirement already satisfied: numpy>=1.11.1 in /usr/local/lib/python2.7/dist-packages (from opencv-python) (1.14.0)\n"
     ]
    }
   ],
   "source": [
    "# install OpenCV package\n",
    "!pip install opencv-python"
   ]
  },
  {
   "cell_type": "code",
   "execution_count": 3,
   "metadata": {},
   "outputs": [],
   "source": [
    "# Here is how you can use packages in Python\n",
    "# import works like include, so when you import a package you can have access to its methods\n",
    "\n",
    "# OpenCV library defined as cv2 in\n",
    "import cv2"
   ]
  },
  {
   "cell_type": "code",
   "execution_count": 4,
   "metadata": {},
   "outputs": [
    {
     "name": "stdout",
     "output_type": "stream",
     "text": [
      "('OpenCV Version:', '3.4.1')\n"
     ]
    }
   ],
   "source": [
    "print('OpenCV Version:', cv2.__version__)"
   ]
  },
  {
   "cell_type": "markdown",
   "metadata": {},
   "source": [
    "Another important library is numpy, it has optimized methods to work with vectors and matrices. Therefore, it is higly relevant when working with image related process."
   ]
  },
  {
   "cell_type": "code",
   "execution_count": 5,
   "metadata": {},
   "outputs": [
    {
     "name": "stdout",
     "output_type": "stream",
     "text": [
      "('NumPy Version:', '1.14.0')\n"
     ]
    }
   ],
   "source": [
    "#importing numpy\n",
    "# many people use np as alies, \n",
    "import numpy as np\n",
    "print('NumPy Version:', np.__version__)"
   ]
  },
  {
   "cell_type": "markdown",
   "metadata": {},
   "source": [
    "Some other packages will also be helpful for further works in our tutorials\n",
    "\n",
    "- `matplotlib`\n",
    "- `imutils`\n",
    "- `psutil`\n",
    "\n",
    "we will also use `sys`, `os` libraries but they are default packages and already installed. "
   ]
  },
  {
   "cell_type": "code",
   "execution_count": 6,
   "metadata": {},
   "outputs": [
    {
     "name": "stdout",
     "output_type": "stream",
     "text": [
      "Requirement already satisfied: matplotlib in /usr/lib/python2.7/dist-packages (1.5.1)\r\n",
      "Requirement already satisfied: imutils in /usr/local/lib/python2.7/dist-packages (0.4.6)\r\n",
      "Requirement already satisfied: psutil in /usr/local/lib/python2.7/dist-packages (5.4.5)\r\n"
     ]
    }
   ],
   "source": [
    "# install matplotlib, imutils, psutil\n",
    "\n",
    "!pip install matplotlib imutils psutil"
   ]
  },
  {
   "cell_type": "markdown",
   "metadata": {},
   "source": [
    "Import the other required python modules for this script. \n",
    "\n",
    "Matplotlib is used in a number of tutorials found in the OpenCV package and OS and sys are needed to test whether the OpenCV environment variables are properly setup."
   ]
  },
  {
   "cell_type": "code",
   "execution_count": 7,
   "metadata": {},
   "outputs": [],
   "source": [
    "import matplotlib as mpl\n",
    "import os\n",
    "import sys"
   ]
  },
  {
   "cell_type": "markdown",
   "metadata": {},
   "source": [
    "Now print the versions here. In the script this is done at the end in the Program Outputs block"
   ]
  },
  {
   "cell_type": "code",
   "execution_count": 8,
   "metadata": {},
   "outputs": [
    {
     "name": "stdout",
     "output_type": "stream",
     "text": [
      "('Matplotlib Version:', '1.5.1')\n",
      "2.7.12 (default, Dec  4 2017, 14:50:18) \n",
      "[GCC 5.4.0 20160609]\n"
     ]
    }
   ],
   "source": [
    "print('Matplotlib Version:', mpl.__version__)\n",
    "print(sys.version)"
   ]
  },
  {
   "cell_type": "markdown",
   "metadata": {},
   "source": [
    "Now we check to see if the OpenCV environment variables have been properly set. We need to do this in a safe way to prevent the script from crashing in case no variable has been set. So use standard python exception handling..."
   ]
  },
  {
   "cell_type": "code",
   "execution_count": 9,
   "metadata": {},
   "outputs": [],
   "source": [
    "try:\n",
    "    pyth_path = os.environ['PYTHONPATH'].split(os.pathsep)\n",
    "except KeyError:\n",
    "    pyth_path = []"
   ]
  },
  {
   "cell_type": "markdown",
   "metadata": {},
   "source": [
    "Now print the environment variable. In the script this is done at the end in the Program Outputs block."
   ]
  },
  {
   "cell_type": "code",
   "execution_count": 10,
   "metadata": {},
   "outputs": [
    {
     "name": "stdout",
     "output_type": "stream",
     "text": [
      "('Python Environment Variable - PYTHONPATH:', [])\n"
     ]
    }
   ],
   "source": [
    "print('Python Environment Variable - PYTHONPATH:', pyth_path)"
   ]
  },
  {
   "cell_type": "markdown",
   "metadata": {},
   "source": [
    "Next check the OpenCV environemnt variables"
   ]
  },
  {
   "cell_type": "code",
   "execution_count": 11,
   "metadata": {},
   "outputs": [],
   "source": [
    "try:\n",
    "    ocv2_path = os.environ['OPENCV_DIR']\n",
    "except KeyError:\n",
    "    ocv2_path = []\n",
    "    \n",
    "try:\n",
    "    ocv2_vers = os.environ['OPENCV_VER']\n",
    "except KeyError:\n",
    "    ocv2_vers = []"
   ]
  },
  {
   "cell_type": "markdown",
   "metadata": {},
   "source": [
    "Above commands starting with `!` works in IPython Notebook cells, to define a terminal command.\n",
    "\n",
    "If you are doing it right way, from terminal, you should only use the command after `!` for installation e.g. `pip install opencv-python`"
   ]
  },
  {
   "cell_type": "markdown",
   "metadata": {},
   "source": [
    "### Congratulations!"
   ]
  },
  {
   "cell_type": "markdown",
   "metadata": {},
   "source": [
    "## Resources\n",
    "\n",
    "For additional installation options, please check OpenCV documentation.\n",
    "\n",
    "- https://docs.opencv.org/3.4.1/d2/de6/tutorial_py_setup_in_ubuntu.html"
   ]
  }
 ],
 "metadata": {
  "anaconda-cloud": {},
  "kernelspec": {
   "display_name": "Python 2",
   "language": "python",
   "name": "python2"
  },
  "language_info": {
   "codemirror_mode": {
    "name": "ipython",
    "version": 2
   },
   "file_extension": ".py",
   "mimetype": "text/x-python",
   "name": "python",
   "nbconvert_exporter": "python",
   "pygments_lexer": "ipython2",
   "version": "2.7.12"
  }
 },
 "nbformat": 4,
 "nbformat_minor": 1
}
