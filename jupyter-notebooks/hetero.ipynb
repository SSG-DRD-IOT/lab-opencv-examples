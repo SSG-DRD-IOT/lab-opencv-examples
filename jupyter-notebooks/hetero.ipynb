{
 "cells": [
  {
   "cell_type": "markdown",
   "metadata": {},
   "source": [
    "# OpenVINO™ toolkit hetero plugin \n",
    "\n",
    "This example shows how to use hetero plugin to define preferences to run different network layers on different hardware types. Here, we will use the command line option to define hetero plugin usage where the layer distribution is already defined. However, hetero plugin also allows developers to customize distribution of layers execution on different hardware by specifying it in the application code.  "
   ]
  },
  {
   "cell_type": "markdown",
   "metadata": {},
   "source": [
    "## Setup Lab Environment"
   ]
  },
  {
   "cell_type": "code",
   "execution_count": 6,
   "metadata": {},
   "outputs": [
    {
     "name": "stdout",
     "output_type": "stream",
     "text": [
      " ...100%, 44 MB, 1261 KB/s, 36 seconds passed\u001b[34;1mInitializing operating system environment variables\u001b[0m\n",
      "env: PASSWORD=upsquared\n",
      "\u001b[34;1m\n",
      "Storing OpenVINO directories in environment variables\u001b[0m\n",
      "env: OPENVINO_INSTALLATION_PATH=/home/upsquared/intel/computer_vision_sdk\n",
      "env: OPENVINO_EXAMPLES=/home/upsquared/intel/computer_vision_sdk/deployment_tools/inference_engine/samples\n",
      "env: OPENIVNO_MODEL_OPTIMIZER=/home/upsquared/intel/computer_vision_sdk/deployment_tools/model_optimizer\n",
      "env: OPENVINO_MODEL_DOWNLOADER=/home/upsquared/intel/computer_vision_sdk/deployment_tools/model_downloader\n",
      "env: OPENVINO_EXAMPLES_BIN=/home/upsquared/intel/computer_vision_sdk/deployment_tools/inference_engine/samples/build/intel64/Release\n",
      "\u001b[34;1m\n",
      "Storing workshop lab directories in environment variables\u001b[0m\n",
      "env: WORKSHOP=/home/upsquared/labs/smart-video-workshop\n",
      "env: MODEL_OUTPUT_DIR=/home/upsquared/labs/smart-video-workshop/resources/model_output\n",
      "env: INPUT_MEDIA_DIR=/home/upsquared/labs/smart-video-workshop/resources/media\n",
      "\u001b[34;1mInitializing lab specific environment variables\u001b[0m\n",
      "env: CAFFE_MODELS=/home/upsquared/intel/computer_vision_sdk/deployment_tools/model_downloader/object_detection/common/mobilenet-ssd/caffe\n",
      "env: LAB=/home/upsquared/labs/smart-video-workshop/object-detection\n",
      "env: OPENVINO_HETERO_EXAMPLE=/home/upsquared/intel/computer_vision_sdk/deployment_tools/inference_engine/samples/object_detection_sample\n"
     ]
    }
   ],
   "source": [
    "# Environment variables that specific to this lab\n",
    "%run 'environment/setup-heterogeneity.ipynb'"
   ]
  },
  {
   "cell_type": "markdown",
   "metadata": {},
   "source": [
    "## Download the Input Image\n",
    "\n",
    "We need to download a video with a car to use as input in the examples in this lab."
   ]
  },
  {
   "cell_type": "code",
   "execution_count": 5,
   "metadata": {},
   "outputs": [
    {
     "name": "stdout",
     "output_type": "stream",
     "text": [
      "'./cars.mp4)' was not found in history, as a file, url, nor in the user namespace.\n"
     ]
    }
   ],
   "source": [
    "save(\"https://pixabay.com/en/videos/download/video-1900_source.mp4\", \"./cars.mp4\")"
   ]
  },
  {
   "cell_type": "markdown",
   "metadata": {},
   "source": [
    "### Car detection tutorial example \n",
    "#### 1. Navigate to the tutorial directory\n",
    "#### 2. Run the car detection tutorial with hetero plugin \n",
    "##### a) Prioritizing running on GPU first."
   ]
  },
  {
   "cell_type": "code",
   "execution_count": 10,
   "metadata": {},
   "outputs": [
    {
     "name": "stdout",
     "output_type": "stream",
     "text": [
      "  File \"/home/upsquared/labs/smart-video-workshop/object-detection/tutorial1\", line 1\n",
      "SyntaxError: Non-UTF-8 code starting with '\\xbe' in file /home/upsquared/labs/smart-video-workshop/object-detection/tutorial1 on line 2, but no encoding declared; see http://python.org/dev/peps/pep-0263/ for details\n"
     ]
    }
   ],
   "source": [
    "! python3 $LAB/tutorial1 -i $LAB/cars.mp4 -m $LAB/mobilenet-ssd/FP32/mobilenet-ssd.xml -d HETERO:GPU,CPU"
   ]
  },
  {
   "cell_type": "code",
   "execution_count": 3,
   "metadata": {},
   "outputs": [
    {
     "name": "stdout",
     "output_type": "stream",
     "text": [
      "make: Entering directory '/home/upsquared/labs/smart-video-workshop/object-detection'\n",
      "g++ -fPIE -O3 -o tutorial1 --std=c++11 main.cpp -I. \\\n",
      "            -I/opt/intel/computer_vision_sdk/opencv/include/ \\\n",
      "            -I/opt/intel/computer_vision_sdk/deployment_tools/inference_engine/include/ \\\n",
      "            -I/opt/intel/computer_vision_sdk/deployment_tools/inference_engine/include/cpp \\\n",
      "            -L/opt/intel/computer_vision_sdk/deployment_tools/inference_engine/lib/ubuntu_16.04/intel64 -linference_engine -ldl -lpthread -lcpu_extension_avx2 -lcpu_extension_sse4 \\\n",
      "            -L/opt/intel/computer_vision_sdk/opencv/lib -lopencv_core -lopencv_imgcodecs -lopencv_imgproc -lopencv_highgui -lopencv_videoio -lopencv_video -lgflags -I/opt/intel/computer_vision_sdk_2018.1.265/deployment_tools/inference_engine/include -I/opt/intel/computer_vision_sdk_2018.1.265/deployment_tools/inference_engine/samples/ -I./ -I/opt/intel/computer_vision_sdk_2018.1.265/deployment_tools/inference_engine/samples/common/format_reader/ -I/opt/intel/computer_vision_sdk_2018.1.265/opencv/include -I/usr/local/include -I/opt/intel/computer_vision_sdk_2018.1.265/deployment_tools/inference_engine/samples/thirdparty/gflags/include -I/opt/intel/computer_vision_sdk_2018.1.265/deployment_tools/inference_engine/include -I/opt/intel/computer_vision_sdk_2018.1.265/deployment_tools/inference_engine/include/cpp -I/opt/intel/computer_vision_sdk_2018.1.265/deployment_tools/inference_engine/samples/extension -L/opt/intel/computer_vision_sdk_2018.1.265/deployment_tools/inference_engine/bin/intel64/Release/lib -L/opt/intel/computer_vision_sdk_2018.1.265/deployment_tools/inference_engine/lib/ubuntu_16.04/intel64 -L/opt/intel/computer_vision_sdk/deployment_tools/inference_engine/samples/build/intel64/Release/lib -L/opt/intel/computer_vision_sdk_2018.1.265/opencv/lib -ldl -linference_engine -lopencv_highgui -lopencv_core -lopencv_imgproc -lopencv_videoio -lgflags_nothreads -lopencv_imgcodecs -lopencv_imgcodecs \n",
      "\u001b[01m\u001b[Kmain.cpp:29:25:\u001b[m\u001b[K \u001b[01;31m\u001b[Kfatal error: \u001b[m\u001b[Kie_device.hpp: No such file or directory\n",
      "compilation terminated.\n",
      "Makefile:2: recipe for target 'all' failed\n",
      "make: *** [all] Error 1\n",
      "make: Leaving directory '/home/upsquared/labs/smart-video-workshop/object-detection'\n"
     ]
    }
   ],
   "source": [
    "! make --directory=$LAB"
   ]
  },
  {
   "cell_type": "code",
   "execution_count": 4,
   "metadata": {},
   "outputs": [
    {
     "name": "stdout",
     "output_type": "stream",
     "text": [
      "/home/upsquared/labs/smart-video-workshop/object-detection//tutorial1: error while loading shared libraries: libinference_engine.so: cannot open shared object file: No such file or directory\n"
     ]
    }
   ],
   "source": [
    "! $LAB/tutorial1 -i $LAB/object-detection/cars.mp4 -m $LAB/mobilenet-ssd/FP32/mobilenet-ssd.xml"
   ]
  },
  {
   "cell_type": "code",
   "execution_count": null,
   "metadata": {},
   "outputs": [],
   "source": []
  }
 ],
 "metadata": {
  "kernelspec": {
   "display_name": "Python 3",
   "language": "python",
   "name": "python3"
  },
  "language_info": {
   "codemirror_mode": {
    "name": "ipython",
    "version": 3
   },
   "file_extension": ".py",
   "mimetype": "text/x-python",
   "name": "python",
   "nbconvert_exporter": "python",
   "pygments_lexer": "ipython3",
   "version": "3.5.2"
  }
 },
 "nbformat": 4,
 "nbformat_minor": 2
}
