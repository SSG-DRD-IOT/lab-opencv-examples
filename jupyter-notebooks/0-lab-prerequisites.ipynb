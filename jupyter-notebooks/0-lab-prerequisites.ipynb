{
 "cells": [
  {
   "cell_type": "markdown",
   "metadata": {},
   "source": [
    "# Optimized Inference at the Edge with Intel® Tools and Technologies \n",
    "This workshop will walk you through a computer vision workflow using the latest Intel® technologies and comprehensive toolkits including support for deep learning algorithms that help accelerate smart video applications. You will learn how to optimize and improve performance with and without external accelerators and utilize tools to help you identify the best hardware configuration for your needs. This workshop will also outline the various frameworks and topologies supported by Intel® accelerator tools. \n",
    "\n",
    "## How to Get Started\n",
    "   \n",
    "> For the in-class training, the hardware and software setup part has already been done on the workshop hardware. In-class training participants should directly move to Workshop Agenda section. \n",
    "\n",
    "In order to use this workshop content, you will need to setup your hardware and install OpenVINO™ toolkit for infering your computer vision application.\n",
    "\n",
    "## Setup the Lab Environment"
   ]
  },
  {
   "cell_type": "code",
   "execution_count": 1,
   "metadata": {},
   "outputs": [
    {
     "name": "stdout",
     "output_type": "stream",
     "text": [
      "\u001b[34;1mInitializing operating system environment variables\u001b[0m\n",
      "env: PASSWORD=upsquared\n",
      "\u001b[34;1m\n",
      "Storing OpenVINO directories in environment variables\u001b[0m\n",
      "env: OPENVINO_INSTALLATION_PATH=/home/upsquared/intel/computer_vision_sdk\n",
      "env: OPENVINO_EXAMPLES=/home/upsquared/intel/computer_vision_sdk/deployment_tools/inference_engine/samples\n",
      "env: OPENIVNO_MODEL_OPTIMIZER=/home/upsquared/intel/computer_vision_sdk/deployment_tools/model_optimizer\n",
      "env: OPENVINO_MODEL_DOWNLOADER=/home/upsquared/intel/computer_vision_sdk/deployment_tools/model_downloader\n",
      "env: OPENVINO_EXAMPLES_BIN=/home/upsquared/intel/computer_vision_sdk/deployment_tools/inference_engine/samples/build/intel64/Release\n",
      "\u001b[34;1m\n",
      "Storing workshop lab directories in environment variables\u001b[0m\n",
      "env: WORKSHOP=/home/upsquared/labs/smart-video-workshop\n",
      "env: MODEL_OUTPUT_DIR=/home/upsquared/labs/smart-video-workshop/resources/model_output\n",
      "env: INPUT_MEDIA_DIR=/home/upsquared/labs/smart-video-workshop/resources/media\n",
      "\u001b[34;1mInitializing lab specific environment variables\u001b[0m\n",
      "env: test=$openvino_root_directory\n",
      "env: CAFFE_MODELS=/opt/intel/computer_vision_sdk/deployment_tools/model_downloader/object_detection/common/mobilenet-ssd/caffe/\n",
      "env: LAB=/home/upsquared/labs/smart-video-workshop/object-detection/\n",
      "env: OPENVINO_OBJECT_DETCTION_EXAMPLE=/opt/intel/computer_vision_sdk/deployment_tools/inference_engine/samples/object-detection/\n"
     ]
    }
   ],
   "source": [
    "# Environment variables that specific to this lab\n",
    "%run 'environment/setup.ipynb'"
   ]
  },
  {
   "cell_type": "markdown",
   "metadata": {},
   "source": [
    "\n",
    "### 1. Hardware requirements\n",
    "The hardware requirements are mentioned in the System Requirement section of the [install guide](https://software.intel.com/en-us/articles/OpenVINO-Install-Linux)\n",
    "\n",
    "### 2. Operating System\n",
    "These labs have been validated on Ubuntu 16.04 OS. \n",
    "\n",
    "### 3. Software installation steps\n",
    "#### a). Install OpenVINO™ toolkit \n",
    "Use steps described in the [install guide](https://software.intel.com/en-us/articles/OpenVINO-Install-Linux)\n",
    "to install OpenVINO™ toolkit as well as MediaSDK and OpenCL* mentioned in the Post-Installation section of the guide. \n",
    "\n",
    "#### b). Install gflags and python libraries\n"
   ]
  },
  {
   "cell_type": "code",
   "execution_count": 30,
   "metadata": {},
   "outputs": [
    {
     "name": "stdout",
     "output_type": "stream",
     "text": [
      "Reading package lists... Done\n",
      "Building dependency tree       \n",
      "Reading state information... Done\n",
      "libgflags-dev is already the newest version (2.1.2-3).\n",
      "python3-pip is already the newest version (8.1.1-2ubuntu0.4).\n",
      "The following packages were automatically installed and are no longer required:\n",
      "  linux-headers-4.13.0-36 linux-headers-4.13.0-36-generic\n",
      "  linux-headers-4.13.0-38 linux-headers-4.13.0-38-generic\n",
      "  linux-headers-4.13.0-39 linux-headers-4.13.0-39-generic\n",
      "  linux-headers-4.13.0-41 linux-headers-4.13.0-41-generic\n",
      "  linux-image-4.13.0-36-generic linux-image-4.13.0-38-generic\n",
      "  linux-image-4.13.0-39-generic linux-image-4.13.0-41-generic\n",
      "  linux-image-extra-4.13.0-36-generic linux-image-extra-4.13.0-38-generic\n",
      "  linux-image-extra-4.13.0-39-generic linux-image-extra-4.13.0-41-generic\n",
      "  linux-signed-image-4.13.0-38-generic linux-signed-image-4.13.0-39-generic\n",
      "  linux-signed-image-4.13.0-41-generic\n",
      "Use 'sudo apt autoremove' to remove them.\n",
      "0 upgraded, 0 newly installed, 0 to remove and 101 not upgraded.\n"
     ]
    }
   ],
   "source": [
    "! echo $PASSWORD | sudo -S apt install libgflags-dev python3-pip"
   ]
  },
  {
   "cell_type": "code",
   "execution_count": 31,
   "metadata": {},
   "outputs": [
    {
     "name": "stdout",
     "output_type": "stream",
     "text": [
      "[sudo] password for upsquared: \u001b[31mCould not open requirements file: [Errno 2] No such file or directory: '/opt/intel/computer_vision_sdk/deployment_tools/model_optimizer/requirements_caffe.txt'\u001b[0m\n",
      "\u001b[33mYou are using pip version 8.1.1, however version 10.0.1 is available.\n",
      "You should consider upgrading via the 'pip install --upgrade pip' command.\u001b[0m\n"
     ]
    }
   ],
   "source": [
    "! echo $PASSWORD | sudo -S -H pip3 install -r /opt/intel/computer_vision_sdk/deployment_tools/model_optimizer/requirements_caffe.txt"
   ]
  },
  {
   "cell_type": "markdown",
   "metadata": {},
   "source": [
    "#### c). Compile samples\n",
    "Compile in-built samples in OpenVINO™ toolkit "
   ]
  },
  {
   "cell_type": "code",
   "execution_count": 32,
   "metadata": {},
   "outputs": [
    {
     "name": "stdout",
     "output_type": "stream",
     "text": [
      "[sudo] password for upsquared: "
     ]
    }
   ],
   "source": [
    "! echo $PASSWORD | sudo -S mkdir -p $INF_EXAMPLES/build "
   ]
  },
  {
   "cell_type": "code",
   "execution_count": 33,
   "metadata": {},
   "outputs": [
    {
     "data": {
      "text/plain": [
       "{'CAFFE_MODELS': '/opt/intel/computer_vision_sdk/deployment_tools/model_downloader/object_detection/common/mobilenet-ssd/caffe/',\n",
       " 'CLICOLOR': '1',\n",
       " 'CLUTTER_IM_MODULE': 'xim',\n",
       " 'COMPIZ_BIN_PATH': '/usr/bin/',\n",
       " 'COMPIZ_CONFIG_PROFILE': 'ubuntu',\n",
       " 'DBUS_SESSION_BUS_ADDRESS': 'unix:abstract=/tmp/dbus-zFYr1G088L',\n",
       " 'DEFAULTS_PATH': '/usr/share/gconf/ubuntu.default.path',\n",
       " 'DESKTOP_SESSION': 'ubuntu',\n",
       " 'DISPLAY': ':0',\n",
       " 'GDMSESSION': 'ubuntu',\n",
       " 'GDM_LANG': 'en_US',\n",
       " 'GIT_PAGER': 'cat',\n",
       " 'GNOME_DESKTOP_SESSION_ID': 'this-is-deprecated',\n",
       " 'GNOME_KEYRING_CONTROL': '',\n",
       " 'GNOME_KEYRING_PID': '',\n",
       " 'GPG_AGENT_INFO': '/home/upsquared/.gnupg/S.gpg-agent:0:1',\n",
       " 'GTK2_MODULES': 'overlay-scrollbar',\n",
       " 'GTK_IM_MODULE': 'ibus',\n",
       " 'GTK_MODULES': 'gail:atk-bridge:unity-gtk-module',\n",
       " 'HOME': '/home/upsquared',\n",
       " 'IM_CONFIG_PHASE': '1',\n",
       " 'INPUT_MEDIA_DIR': '/home/upsquared/labs/smart-video-workshop/resources/media',\n",
       " 'INSTANCE': '',\n",
       " 'JOB': 'unity-settings-daemon',\n",
       " 'JPY_PARENT_PID': '20050',\n",
       " 'LAB': '/home/upsquared/labs/smart-video-workshop/object-detection/',\n",
       " 'LANG': 'en_US.UTF-8',\n",
       " 'LANGUAGE': 'en_US',\n",
       " 'LESSCLOSE': '/usr/bin/lesspipe %s %s',\n",
       " 'LESSOPEN': '| /usr/bin/lesspipe %s',\n",
       " 'LOGNAME': 'upsquared',\n",
       " 'LS_COLORS': 'rs=0:di=01;34:ln=01;36:mh=00:pi=40;33:so=01;35:do=01;35:bd=40;33;01:cd=40;33;01:or=40;31;01:mi=00:su=37;41:sg=30;43:ca=30;41:tw=30;42:ow=34;42:st=37;44:ex=01;32:*.tar=01;31:*.tgz=01;31:*.arc=01;31:*.arj=01;31:*.taz=01;31:*.lha=01;31:*.lz4=01;31:*.lzh=01;31:*.lzma=01;31:*.tlz=01;31:*.txz=01;31:*.tzo=01;31:*.t7z=01;31:*.zip=01;31:*.z=01;31:*.Z=01;31:*.dz=01;31:*.gz=01;31:*.lrz=01;31:*.lz=01;31:*.lzo=01;31:*.xz=01;31:*.bz2=01;31:*.bz=01;31:*.tbz=01;31:*.tbz2=01;31:*.tz=01;31:*.deb=01;31:*.rpm=01;31:*.jar=01;31:*.war=01;31:*.ear=01;31:*.sar=01;31:*.rar=01;31:*.alz=01;31:*.ace=01;31:*.zoo=01;31:*.cpio=01;31:*.7z=01;31:*.rz=01;31:*.cab=01;31:*.jpg=01;35:*.jpeg=01;35:*.gif=01;35:*.bmp=01;35:*.pbm=01;35:*.pgm=01;35:*.ppm=01;35:*.tga=01;35:*.xbm=01;35:*.xpm=01;35:*.tif=01;35:*.tiff=01;35:*.png=01;35:*.svg=01;35:*.svgz=01;35:*.mng=01;35:*.pcx=01;35:*.mov=01;35:*.mpg=01;35:*.mpeg=01;35:*.m2v=01;35:*.mkv=01;35:*.webm=01;35:*.ogm=01;35:*.mp4=01;35:*.m4v=01;35:*.mp4v=01;35:*.vob=01;35:*.qt=01;35:*.nuv=01;35:*.wmv=01;35:*.asf=01;35:*.rm=01;35:*.rmvb=01;35:*.flc=01;35:*.avi=01;35:*.fli=01;35:*.flv=01;35:*.gl=01;35:*.dl=01;35:*.xcf=01;35:*.xwd=01;35:*.yuv=01;35:*.cgm=01;35:*.emf=01;35:*.ogv=01;35:*.ogx=01;35:*.aac=00;36:*.au=00;36:*.flac=00;36:*.m4a=00;36:*.mid=00;36:*.midi=00;36:*.mka=00;36:*.mp3=00;36:*.mpc=00;36:*.ogg=00;36:*.ra=00;36:*.wav=00;36:*.oga=00;36:*.opus=00;36:*.spx=00;36:*.xspf=00;36:',\n",
       " 'MANDATORY_PATH': '/usr/share/gconf/ubuntu.mandatory.path',\n",
       " 'MODEL_OUTPUT_DIR': '/home/upsquared/labs/smart-video-workshop/resources/model_output',\n",
       " 'MPLBACKEND': 'module://ipykernel.pylab.backend_inline',\n",
       " 'OLDPWD': '/home/upsquared',\n",
       " 'OPENIVNO_MODEL_OPTIMIZER': '/home/upsquared/intel/computer_vision_sdk/deployment_tools/model_optimizer',\n",
       " 'OPENVINO_EXAMPLES': '/home/upsquared/intel/computer_vision_sdk/deployment_tools/inference_engine/samples',\n",
       " 'OPENVINO_EXAMPLES_BIN': '/home/upsquared/intel/computer_vision_sdk/deployment_tools/inference_engine/samples/build/intel64/Release',\n",
       " 'OPENVINO_INSTALLATION_PATH': '/home/upsquared/intel/computer_vision_sdk',\n",
       " 'OPENVINO_MODEL_DOWNLOADER': '/home/upsquared/intel/computer_vision_sdk/deployment_tools/model_downloader',\n",
       " 'OPENVINO_OBJECT_DETCTION_EXAMPLE': '/opt/intel/computer_vision_sdk/deployment_tools/inference_engine/samples/object-detection/',\n",
       " 'PAGER': 'cat',\n",
       " 'PASSWORD': 'upsquared',\n",
       " 'PATH': '/usr/local/bin:/home/upsquared/bin:/home/upsquared/.local/bin:/usr/local/sbin:/usr/local/bin:/usr/sbin:/usr/bin:/sbin:/bin:/usr/games:/usr/local/games:/snap/bin',\n",
       " 'PWD': '/home/upsquared/labs/smart-video-workshop',\n",
       " 'QT4_IM_MODULE': 'xim',\n",
       " 'QT_ACCESSIBILITY': '1',\n",
       " 'QT_IM_MODULE': 'ibus',\n",
       " 'QT_LINUX_ACCESSIBILITY_ALWAYS_ON': '1',\n",
       " 'QT_QPA_PLATFORMTHEME': 'appmenu-qt5',\n",
       " 'SESSION': 'ubuntu',\n",
       " 'SESSIONTYPE': 'gnome-session',\n",
       " 'SHELL': '/bin/bash',\n",
       " 'SHLVL': '1',\n",
       " 'SSH_AUTH_SOCK': '/run/user/1000/keyring/ssh',\n",
       " 'TERM': 'xterm-color',\n",
       " 'UNITY_DEFAULT_PROFILE': 'unity',\n",
       " 'UNITY_HAS_3D_SUPPORT': 'true',\n",
       " 'UPSTART_EVENTS': 'xsession started',\n",
       " 'UPSTART_INSTANCE': '',\n",
       " 'UPSTART_JOB': 'unity7',\n",
       " 'UPSTART_SESSION': 'unix:abstract=/com/ubuntu/upstart-session/1000/891',\n",
       " 'USER': 'upsquared',\n",
       " 'VTE_VERSION': '4205',\n",
       " 'WINDOWID': '54525962',\n",
       " 'WORKSHOP': '/home/upsquared/labs/smart-video-workshop',\n",
       " 'XAUTHORITY': '/home/upsquared/.Xauthority',\n",
       " 'XDG_CONFIG_DIRS': '/etc/xdg/xdg-ubuntu:/usr/share/upstart/xdg:/etc/xdg',\n",
       " 'XDG_CURRENT_DESKTOP': 'Unity',\n",
       " 'XDG_DATA_DIRS': '/usr/share/ubuntu:/usr/share/gnome:/usr/local/share:/usr/share:/var/lib/snapd/desktop',\n",
       " 'XDG_GREETER_DATA_DIR': '/var/lib/lightdm-data/upsquared',\n",
       " 'XDG_RUNTIME_DIR': '/run/user/1000',\n",
       " 'XDG_SEAT': 'seat0',\n",
       " 'XDG_SEAT_PATH': '/org/freedesktop/DisplayManager/Seat0',\n",
       " 'XDG_SESSION_DESKTOP': 'ubuntu',\n",
       " 'XDG_SESSION_ID': 'c1',\n",
       " 'XDG_SESSION_PATH': '/org/freedesktop/DisplayManager/Session0',\n",
       " 'XDG_SESSION_TYPE': 'x11',\n",
       " 'XDG_VTNR': '7',\n",
       " 'XMODIFIERS': '@im=ibus',\n",
       " '_': '/usr/local/bin/jupyter',\n",
       " 'test': '$openvino_root_directory'}"
      ]
     },
     "execution_count": 33,
     "metadata": {},
     "output_type": "execute_result"
    }
   ],
   "source": [
    "%env"
   ]
  },
  {
   "cell_type": "code",
   "execution_count": 34,
   "metadata": {},
   "outputs": [
    {
     "name": "stdout",
     "output_type": "stream",
     "text": [
      "/bin/bash: /opt/intel/computer_vision_sdk/bin/setupvars.sh: No such file or directory\n"
     ]
    }
   ],
   "source": [
    "! /bin/bash /opt/intel/computer_vision_sdk/bin/setupvars.sh"
   ]
  },
  {
   "cell_type": "code",
   "execution_count": 35,
   "metadata": {},
   "outputs": [
    {
     "name": "stdout",
     "output_type": "stream",
     "text": [
      "[sudo] password for upsquared: CMake Error: The source directory \"/\" does not appear to contain CMakeLists.txt.\n",
      "Specify --help for usage, or press the help button on the CMake GUI.\n"
     ]
    }
   ],
   "source": [
    "! echo $PASSWORD | sudo -S cmake -E chdir $INF_EXAMPLES/build cmake –DCMAKE_BUILD_TYPE=Debug .."
   ]
  },
  {
   "cell_type": "markdown",
   "metadata": {},
   "source": [
    "## Workshop Agenda\n",
    "* **Intel Smart Video/Computer Vision Tools Overview**\n",
    "  - Slides - [Introduction to Intel Smart Video Tools](./presentations/01-Introduction-to-Intel-Smart-Video-Tools.pdf)\n",
    "\n",
    "* **Basic End to End Object Detection Example**\n",
    "  - Slides - [Basic End to End Object Detection Example](./presentations/02-Basic-End-to-End-Object-Detection-Example.pdf)\n",
    "  - Lab - [Basic End to End Object Detection Example](./object-detection/README.md)\n",
    "\n",
    "* **Hardware Heterogeneity**\n",
    "  - Lab - [Hardware Heterogeneity](./hardware-heterogeneity/README.md)\n",
    "\n",
    "* **HW Acceleration with Intel® Movidius™ Neural Compute Stick**\n",
    "  - Lab - [HW Acceleration with Intel® Movidius™ Neural Compute Stick](./HW-Acceleration-with-Movidious-NCS/README.md) \n",
    "  \n",
    "* **FPGA Inference Accelerator**\n",
    "  - Slides - [HW Acceleration with Intel® Movidius™ Neural Compute Stick](./presentations/04-HW-Acceleration-with-FPGA.pdf)\n",
    "\n",
    "* **Optimization Tools and Techniques** \n",
    "  - Slides - [Optimization Tools and Techniques](/presentations/04_05_Optimization_and_advanced_analytics.pdf)\n",
    "  - Lab - [Optimization Tools and Techniques](./optimization-tools-and-techniques/README.md)\n",
    "  \n",
    "* **Advanced Video Analytics**\n",
    "  - Lab - [Advanced Video Analytics](./advanced-video-analytics/README.md)\n"
   ]
  },
  {
   "cell_type": "code",
   "execution_count": null,
   "metadata": {},
   "outputs": [],
   "source": []
  }
 ],
 "metadata": {
  "kernelspec": {
   "display_name": "Python 3",
   "language": "python",
   "name": "python3"
  },
  "language_info": {
   "codemirror_mode": {
    "name": "ipython",
    "version": 3
   },
   "file_extension": ".py",
   "mimetype": "text/x-python",
   "name": "python",
   "nbconvert_exporter": "python",
   "pygments_lexer": "ipython3",
   "version": "3.5.2"
  }
 },
 "nbformat": 4,
 "nbformat_minor": 2
}
