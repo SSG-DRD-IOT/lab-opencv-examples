{
 "cells": [
  {
   "cell_type": "markdown",
   "metadata": {},
   "source": [
    "## Setup the Jupyter Notebook Lab Environment"
   ]
  },
  {
   "cell_type": "code",
   "execution_count": 1,
   "metadata": {},
   "outputs": [],
   "source": [
    "from colors import *"
   ]
  },
  {
   "cell_type": "code",
   "execution_count": 5,
   "metadata": {},
   "outputs": [
    {
     "name": "stderr",
     "output_type": "stream",
     "text": [
      "ERROR:root:File `'environment/global.ipynb.py'` not found.\n"
     ]
    }
   ],
   "source": [
    "%run 'environment/global.ipynb'"
   ]
  },
  {
   "cell_type": "markdown",
   "metadata": {},
   "source": [
    "## Setup Lab Specific Environment"
   ]
  },
  {
   "cell_type": "code",
   "execution_count": 3,
   "metadata": {},
   "outputs": [],
   "source": [
    "caffe_model_path = verify(os.path.join(openvino_install_path, \"deployment_tools/model_downloader/object_detection/common/mobilenet-ssd/caffe/\"))"
   ]
  },
  {
   "cell_type": "code",
   "execution_count": 4,
   "metadata": {},
   "outputs": [
    {
     "name": "stdout",
     "output_type": "stream",
     "text": [
      "\u001b[34;1mInitializing lab specific environment variables\u001b[0m\n",
      "env: test=$openvino_root_directory\n",
      "env: CAFFE_MODELS=/opt/intel/computer_vision_sdk/deployment_tools/model_downloader/object_detection/common/mobilenet-ssd/caffe/\n",
      "env: LAB=/home/upsquared/labs/smart-video-workshop/object-detection/\n",
      "env: OPENVINO_OBJECT_DETCTION_EXAMPLE=/opt/intel/computer_vision_sdk/deployment_tools/inference_engine/samples/object-detection/\n"
     ]
    }
   ],
   "source": [
    "print(color('Initializing lab specific environment variables', fg='blue', style='bold'))\n",
    "%env test = $openvino_root_directory\n",
    "%env CAFFE_MODELS = /opt/intel/computer_vision_sdk/deployment_tools/model_downloader/object_detection/common/mobilenet-ssd/caffe/\n",
    "%env LAB = /home/upsquared/labs/smart-video-workshop/object-detection/\n",
    "%env OPENVINO_OBJECT_DETCTION_EXAMPLE = /opt/intel/computer_vision_sdk/deployment_tools/inference_engine/samples/object-detection/"
   ]
  }
 ],
 "metadata": {
  "kernelspec": {
   "display_name": "Python 3",
   "language": "python",
   "name": "python3"
  },
  "language_info": {
   "codemirror_mode": {
    "name": "ipython",
    "version": 3
   },
   "file_extension": ".py",
   "mimetype": "text/x-python",
   "name": "python",
   "nbconvert_exporter": "python",
   "pygments_lexer": "ipython3",
   "version": "3.5.2"
  }
 },
 "nbformat": 4,
 "nbformat_minor": 2
}
