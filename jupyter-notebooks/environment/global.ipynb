{
 "cells": [
  {
   "cell_type": "markdown",
   "metadata": {},
   "source": [
    "# Setup the OpenVINO Lab Environment\n",
    "\n",
    "This notebook tests for the existence of all the files and directories necessary to run the OpenVINO Jupyter Lab Notebooks, and configures environmental variables to provide easy access to the various directory locations that will be use in this workshop. The helps the student focus on the learning the material rather than tracking the all directories referenced.\n",
    "\n",
    "* First, we search for all OpenVINO directories and test that they exist\n",
    "* Then we setup the environmental variables to hold the directory paths that will be used during this workshop.\n"
   ]
  },
  {
   "cell_type": "markdown",
   "metadata": {},
   "source": [
    "## Configuration Section\n",
    "\n",
    "** *This is the only section of this notebook that should be modified. The notebook will automatically search for and setup all paths in use during this lab. However, you can override and set custom paths here.* **"
   ]
  },
  {
   "cell_type": "code",
   "execution_count": 10,
   "metadata": {},
   "outputs": [],
   "source": [
    "# Customize the defaults for this workshop\n",
    "workshop_directory = \"/home/upsquared/labs/smart-video-workshop\" \n",
    "\n",
    "# The current user will be set below, unless you set an alternative username here.\n",
    "user = None\n",
    "\n",
    "# Password used for sudo user\n",
    "password = \"upsquared\""
   ]
  },
  {
   "cell_type": "code",
   "execution_count": null,
   "metadata": {},
   "outputs": [],
   "source": []
  },
  {
   "cell_type": "code",
   "execution_count": null,
   "metadata": {},
   "outputs": [],
   "source": []
  },
  {
   "cell_type": "markdown",
   "metadata": {},
   "source": [
    "## Python Section\n",
    "### Import Modules used in this Workshop"
   ]
  },
  {
   "cell_type": "code",
   "execution_count": 4,
   "metadata": {},
   "outputs": [],
   "source": [
    "from colors import *\n",
    "import os, sys, getpass, time\n",
    "from urllib import request"
   ]
  },
  {
   "cell_type": "markdown",
   "metadata": {},
   "source": [
    "## Define Helper Functions"
   ]
  },
  {
   "cell_type": "code",
   "execution_count": 5,
   "metadata": {},
   "outputs": [],
   "source": [
    "# Test for the existance of a file or directory\n",
    "# Returns the path if it exists and halt the notebook if it does not exist\n",
    "def verify(path):\n",
    "    if not os.path.exists(path):\n",
    "        print(color('Unable to find directory {0}'.format(path), fg='red', style='bold')) \n",
    "        assert False\n",
    "    else:\n",
    "        return os.path.abspath(path)\n",
    "\n",
    "    \n",
    "# Creates a directory if it does not already exist    \n",
    "def create(path):\n",
    "    if not os.path.exists(path):\n",
    "        os.makedirs(path)"
   ]
  },
  {
   "cell_type": "markdown",
   "metadata": {},
   "source": [
    "## Get the Current User\n",
    "\n",
    "When OpenVINO is installed in the user's home dirctory, we need to know the name of the current user to find the OpenVINO installation path"
   ]
  },
  {
   "cell_type": "code",
   "execution_count": 6,
   "metadata": {},
   "outputs": [],
   "source": [
    "# You can manually set the name of the current user on the line below\n",
    "user = None\n",
    "\n",
    "# If the variable 'user' is None then find the current user\n",
    "user = user or getpass.getuser()"
   ]
  },
  {
   "cell_type": "markdown",
   "metadata": {},
   "source": [
    "## Test the Existence of the OpenVINO Installation Paths\n",
    "Find the OpenVINO installation path by first checking the standard system installation directory. If it is not found in */opt/intel/* then check the home directory of the user."
   ]
  },
  {
   "cell_type": "code",
   "execution_count": 7,
   "metadata": {},
   "outputs": [],
   "source": [
    "# When OpenVINO is installed by root or via the 'sudo' command, it will\n",
    "# be in the '/opt/intel' directory\n",
    "openvino_global_install_directory = \"/opt/intel/computer_vision_sdk/\"\n",
    "\n",
    "# When OpenVINO is installed by a user, it will be in user's home \n",
    "# directory under './intel'\n",
    "openvino_user_install_directory = os.path.join(\"/home\",  user, \"intel/computer_vision_sdk/\")\n",
    "\n",
    "# Set 'openvino_install_path' or display an error\n",
    "if os.path.isdir(openvino_global_install_directory):\n",
    "    openvino_install_path = verify(openvino_global_install_directory)\n",
    "elif os.path.isdir(openvino_user_install_directory):\n",
    "    openvino_install_path = verify(openvino_user_install_directory)\n",
    "else:\n",
    "    print(color('Unable to find OpenVINO installation directory', fg='red', style='bold'))"
   ]
  },
  {
   "cell_type": "markdown",
   "metadata": {},
   "source": [
    "### OpenVINO Directory Definitions"
   ]
  },
  {
   "cell_type": "code",
   "execution_count": 8,
   "metadata": {},
   "outputs": [],
   "source": [
    "openvino_inference_engine_examples = verify(os.path.join(openvino_install_path, \"deployment_tools/inference_engine/samples/\"))\n",
    "openvino_model_optimizer = verify(os.path.join(openvino_install_path, \"deployment_tools/model_optimizer\"))\n",
    "openvino_model_downloader = verify(os.path.join(openvino_install_path, \"deployment_tools/model_downloader\"))\n",
    "openvino_examples_bin = verify(os.path.join(openvino_install_path, \"deployment_tools/inference_engine/samples/build/intel64/Release\"))"
   ]
  },
  {
   "cell_type": "code",
   "execution_count": null,
   "metadata": {},
   "outputs": [],
   "source": []
  },
  {
   "cell_type": "code",
   "execution_count": null,
   "metadata": {},
   "outputs": [],
   "source": []
  },
  {
   "cell_type": "markdown",
   "metadata": {},
   "source": [
    "## Define All Environmental Variables\n",
    "### Set the Sudo Password "
   ]
  },
  {
   "cell_type": "code",
   "execution_count": 9,
   "metadata": {},
   "outputs": [
    {
     "name": "stdout",
     "output_type": "stream",
     "text": [
      "\u001b[34;1mInitializing operating system environment variables\u001b[0m\n",
      "env: PASSWORD=$password\n"
     ]
    }
   ],
   "source": [
    "print(color('Initializing operating system environment variables', fg='blue', style='bold'))\n",
    "%env PASSWORD = $password"
   ]
  },
  {
   "cell_type": "markdown",
   "metadata": {},
   "source": [
    "### Set OpenVINO directories\n",
    "\n",
    "The initial step is to determine if the OpenVINO libraries were installed globally or if they are installed in the home directory of a particular user."
   ]
  },
  {
   "cell_type": "code",
   "execution_count": 10,
   "metadata": {},
   "outputs": [
    {
     "name": "stdout",
     "output_type": "stream",
     "text": [
      "\u001b[34;1m\n",
      "Storing OpenVINO directories in environment variables\u001b[0m\n",
      "env: OPENVINO_INSTALLATION_PATH=/home/upsquared/intel/computer_vision_sdk\n",
      "env: OPENVINO_EXAMPLES=/home/upsquared/intel/computer_vision_sdk/deployment_tools/inference_engine/samples\n",
      "env: OPENIVNO_MODEL_OPTIMIZER=/home/upsquared/intel/computer_vision_sdk/deployment_tools/model_optimizer\n",
      "env: OPENVINO_MODEL_DOWNLOADER=/home/upsquared/intel/computer_vision_sdk/deployment_tools/model_downloader\n",
      "env: OPENVINO_EXAMPLES_BIN=/home/upsquared/intel/computer_vision_sdk/deployment_tools/inference_engine/samples/build/intel64/Release\n"
     ]
    }
   ],
   "source": [
    "print(color('\\nStoring OpenVINO directories in environment variables', fg='blue', style='bold'))\n",
    "%env OPENVINO_INSTALLATION_PATH = $openvino_install_path\n",
    "%env OPENVINO_EXAMPLES = $openvino_inference_engine_examples\n",
    "%env OPENIVNO_MODEL_OPTIMIZER = $openvino_model_optimizer\n",
    "%env OPENVINO_MODEL_DOWNLOADER = $openvino_model_downloader\n",
    "%env OPENVINO_EXAMPLES_BIN = $openvino_examples_bin"
   ]
  },
  {
   "cell_type": "markdown",
   "metadata": {},
   "source": [
    "### Set Workshop Labs Directory\n",
    "\n",
    "* The first step is to set the workshop directory into an environment variable called WORKSHOP\n",
    "* Create a directory for the model_optimizer to write the Intermediate Representation Models\n",
    "* Create a directory for the image and video inputs\n"
   ]
  },
  {
   "cell_type": "code",
   "execution_count": 11,
   "metadata": {},
   "outputs": [
    {
     "name": "stdout",
     "output_type": "stream",
     "text": [
      "\u001b[34;1m\n",
      "Storing workshop lab directories in environment variables\u001b[0m\n",
      "env: WORKSHOP=/home/upsquared/labs/smart-video-workshop\n",
      "env: MODEL_OUTPUT_DIR=/home/upsquared/labs/smart-video-workshop/resources/model_output\n",
      "env: INPUT_MEDIA_DIR=/home/upsquared/labs/smart-video-workshop/resources/media\n"
     ]
    }
   ],
   "source": [
    "print(color('\\nStoring workshop lab directories in environment variables', fg='blue', style='bold'))\n",
    "workshop = \"/home/upsquared/labs/smart-video-workshop\"\n",
    "%env WORKSHOP = $workshop\n",
    "\n",
    "# Create the output directory for models generated by the model optimizer\n",
    "model_output_dir = os.path.join(workshop, \"resources/model_output\")\n",
    "create(model_output_dir)\n",
    "%env MODEL_OUTPUT_DIR = $model_output_dir\n",
    "\n",
    "# Create the directory to hold input images and videos\n",
    "input_media_dir = os.path.join(workshop, \"resources/media\")\n",
    "create(input_media_dir)\n",
    "%env INPUT_MEDIA_DIR = $input_media_dir"
   ]
  },
  {
   "cell_type": "code",
   "execution_count": null,
   "metadata": {},
   "outputs": [],
   "source": []
  },
  {
   "cell_type": "code",
   "execution_count": null,
   "metadata": {},
   "outputs": [],
   "source": []
  },
  {
   "cell_type": "markdown",
   "metadata": {},
   "source": [
    "### Verify the Neural Network Models are Present\n",
    "\n",
    "Check for the existence of the **classification** and **object_detction** model directories. \n",
    "If the models are not present then start the **model_downloader.py** script."
   ]
  },
  {
   "cell_type": "code",
   "execution_count": 24,
   "metadata": {},
   "outputs": [],
   "source": [
    "! if [ -f $OPENVINO_MODEL_DOWNLOADER/classification ] && [ -f $OPENVINO_MODEL_DOWNLOADER/object_detection ]; then python3 $OPENVINO_MODEL_DOWNLOADER/downloader.py --output_dir $OPENVINO_MODEL_DOWNLOADER; fi "
   ]
  },
  {
   "cell_type": "markdown",
   "metadata": {},
   "source": [
    "### Verify that the Video and Image Assets are Avialable"
   ]
  },
  {
   "cell_type": "code",
   "execution_count": 21,
   "metadata": {},
   "outputs": [],
   "source": [
    "# Create a file download progress bar        \n",
    "def reporthook(count, block_size, total_size):\n",
    "    global start_time\n",
    "    if count == 0:\n",
    "        start_time = time.time()\n",
    "        return\n",
    "    duration = time.time() - start_time\n",
    "    progress_size = int(count * block_size)\n",
    "    speed = int(progress_size / (1024 * duration))\n",
    "    percent = int(count * block_size * 100 / total_size)\n",
    "    sys.stdout.write(\"\\r ...%d%%, %d MB, %d KB/s, %d seconds passed\" % (percent, progress_size / (1024 * 1024), speed, duration))\n",
    "    \n",
    "    \n",
    "# A function that downloads a file from a remote URL and saves it locally\n",
    "def save(url, filename):\n",
    "    if not os.path.exists(filename):\n",
    "        request.urlretrieve(url, filename, reporthook)"
   ]
  },
  {
   "cell_type": "code",
   "execution_count": 22,
   "metadata": {},
   "outputs": [],
   "source": [
    "save(\"https://pixabay.com/en/videos/download/video-1900_source.mp4\", os.path.join(input_media_dir, \"cars.mp4\"))"
   ]
  },
  {
   "cell_type": "markdown",
   "metadata": {},
   "source": [
    "### Display Video Inline\n",
    "\n",
    "The first helper function will display a video in Jupyter Labs from the device that Jupyter is running\n"
   ]
  },
  {
   "cell_type": "code",
   "execution_count": 16,
   "metadata": {},
   "outputs": [],
   "source": [
    "def show(fname=None, width=480, height=320):\n",
    "    \"\"\"Function to display any video in Ipython or Jupyter Notebook given a directory in which the video exist and the video file name.\n",
    "    Args:\n",
    "        baseDir: Directory containing the video\n",
    "        fname: Filename of video.\n",
    "    \"\"\"\n",
    "    from IPython.display import HTML\n",
    "    import os\n",
    "    location = fname\n",
    "    location = \"../object-detection/cars.mp4\"\n",
    "    if os.path.isfile(location):\n",
    "        ext = '.mp4'\n",
    "    else:\n",
    "        print(\"Error: Please check the path.\")\n",
    "\n",
    "    video_tag = '<video width=\"{0}\" height=\"{1}\" controls alt=\"test\" src=\"{2}\">'.format(width, height, location)\n",
    "    return HTML(data=video_tag)"
   ]
  },
  {
   "cell_type": "code",
   "execution_count": 18,
   "metadata": {},
   "outputs": [
    {
     "name": "stdout",
     "output_type": "stream",
     "text": [
      "Error: Please check the path.\n"
     ]
    },
    {
     "data": {
      "text/html": [
       "<video width=\"480\" height=\"320\" controls alt=\"test\" src=\"../object-detection/cars.mp4\">"
      ],
      "text/plain": [
       "<IPython.core.display.HTML object>"
      ]
     },
     "execution_count": 18,
     "metadata": {},
     "output_type": "execute_result"
    }
   ],
   "source": [
    "show(os.path.join(input_media_dir, \"cars.mp4\"))"
   ]
  },
  {
   "cell_type": "code",
   "execution_count": null,
   "metadata": {},
   "outputs": [],
   "source": []
  }
 ],
 "metadata": {
  "kernelspec": {
   "display_name": "Python 3",
   "language": "python",
   "name": "python3"
  },
  "language_info": {
   "codemirror_mode": {
    "name": "ipython",
    "version": 3
   },
   "file_extension": ".py",
   "mimetype": "text/x-python",
   "name": "python",
   "nbconvert_exporter": "python",
   "pygments_lexer": "ipython3",
   "version": "3.5.2"
  }
 },
 "nbformat": 4,
 "nbformat_minor": 2
}
