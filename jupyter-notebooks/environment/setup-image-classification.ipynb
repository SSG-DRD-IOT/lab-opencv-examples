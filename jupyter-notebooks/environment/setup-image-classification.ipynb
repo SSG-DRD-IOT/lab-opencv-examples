{
 "cells": [
  {
   "cell_type": "markdown",
   "metadata": {},
   "source": [
    "## Setup the Jupyter Notebook Lab Environment"
   ]
  },
  {
   "cell_type": "code",
   "execution_count": 1,
   "metadata": {},
   "outputs": [],
   "source": [
    "from colors import *"
   ]
  },
  {
   "cell_type": "code",
   "execution_count": 2,
   "metadata": {},
   "outputs": [
    {
     "name": "stderr",
     "output_type": "stream",
     "text": [
      "ERROR:root:File `'environment/global.ipynb.py'` not found.\n"
     ]
    }
   ],
   "source": [
    "# Environment variables that apply to all labs\n",
    "%run 'environment/global.ipynb'"
   ]
  },
  {
   "cell_type": "markdown",
   "metadata": {},
   "source": [
    "## Operating System Environment"
   ]
  },
  {
   "cell_type": "code",
   "execution_count": 3,
   "metadata": {},
   "outputs": [
    {
     "name": "stdout",
     "output_type": "stream",
     "text": [
      "\u001b[34;1m\n",
      "Initializing environment variables specific to this lab\u001b[0m\n",
      "env: MODEL=$openvino_model_downloader/classification/squeezenet/1.1/caffe/squeezenet1.1.caffemodel\n",
      "env: LAB=$workshop/hardware-heterogeneity\n",
      "env: SAMPLE_CAR_IMAGE=/home/upsquared/intel/computer_vision_sdk_2018.1.265/deployment_tools/demo/car.png\n"
     ]
    }
   ],
   "source": [
    "print(color('\\nInitializing environment variables specific to this lab', fg='blue', style='bold'))\n",
    "%env MODEL = $openvino_model_downloader/classification/squeezenet/1.1/caffe/squeezenet1.1.caffemodel\n",
    "%env LAB = $workshop/hardware-heterogeneity\n",
    "\n",
    "sample_car_image = \"/home/upsquared/intel/computer_vision_sdk_2018.1.265/deployment_tools/demo/car.png\"\n",
    "%env SAMPLE_CAR_IMAGE = /home/upsquared/intel/computer_vision_sdk_2018.1.265/deployment_tools/demo/car.png"
   ]
  },
  {
   "cell_type": "code",
   "execution_count": null,
   "metadata": {},
   "outputs": [],
   "source": []
  }
 ],
 "metadata": {
  "kernelspec": {
   "display_name": "Python 3",
   "language": "python",
   "name": "python3"
  },
  "language_info": {
   "codemirror_mode": {
    "name": "ipython",
    "version": 3
   },
   "file_extension": ".py",
   "mimetype": "text/x-python",
   "name": "python",
   "nbconvert_exporter": "python",
   "pygments_lexer": "ipython3",
   "version": "3.5.2"
  }
 },
 "nbformat": 4,
 "nbformat_minor": 2
}
